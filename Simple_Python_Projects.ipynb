{
  "nbformat": 4,
  "nbformat_minor": 0,
  "metadata": {
    "colab": {
      "provenance": [],
      "authorship_tag": "ABX9TyN+FjKF3MLJZxMDZGCVChDP",
      "include_colab_link": true
    },
    "kernelspec": {
      "name": "python3",
      "display_name": "Python 3"
    },
    "language_info": {
      "name": "python"
    }
  },
  "cells": [
    {
      "cell_type": "markdown",
      "metadata": {
        "id": "view-in-github",
        "colab_type": "text"
      },
      "source": [
        "<a href=\"https://colab.research.google.com/github/Dilajohn/Advanced-python-topics/blob/main/Simple_Python_Projects.ipynb\" target=\"_parent\"><img src=\"https://colab.research.google.com/assets/colab-badge.svg\" alt=\"Open In Colab\"/></a>"
      ]
    },
    {
      "cell_type": "markdown",
      "source": [
        "**Problem statement**\n",
        "Build a simple command-line  calculator that performs basic arithmetic calculations :addition, subtraction, multiplication, division\n"
      ],
      "metadata": {
        "id": "ftmUbXFtahKP"
      }
    },
    {
      "cell_type": "code",
      "execution_count": 5,
      "metadata": {
        "id": "upC30Vhi6JLB",
        "colab": {
          "base_uri": "https://localhost:8080/"
        },
        "outputId": "ae51081a-f2bb-41af-b32c-17853492a554"
      },
      "outputs": [
        {
          "output_type": "stream",
          "name": "stdout",
          "text": [
            "Simple Calculator:\n",
            "1. Addition\n",
            "2. Subtraction\n",
            "3. Multiplication\n",
            "4. Division\n",
            "Enter your choice (+,-, *, /): *\n",
            "Enter first number: 3\n",
            "Enter second number: 3\n",
            "Result: 9.0\n"
          ]
        }
      ],
      "source": [
        "def add(x, y):\n",
        "  \"\"\"Adds two numbers and returns the result.\"\"\"\n",
        "  return x + y\n",
        "\n",
        "def subtract(x, y):\n",
        "  \"\"\"Subtracts the second number from the first and returns the result.\"\"\"\n",
        "  return x - y\n",
        "\n",
        "def multiply(x, y):\n",
        "  \"\"\"Multiplies two numbers and returns the result.\"\"\"\n",
        "  return x * y\n",
        "\n",
        "def divide(x, y):\n",
        "  \"\"\"Divides the first number by the second and returns the result.\n",
        "  Returns an error message if the second number is zero.\n",
        "  \"\"\"\n",
        "  if y == 0:\n",
        "    return \"Error: Cannot divide by zero\"\n",
        "  return x / y\n",
        "\n",
        "print(\"Simple Calculator:\")\n",
        "print(\"1. Addition\")\n",
        "print(\"2. Subtraction\")\n",
        "print(\"3. Multiplication\")\n",
        "print(\"4. Division\")\n",
        "\n",
        "op = input(\"Enter your choice (+,-, *, /): \")\n",
        "a = float(input(\"Enter first number: \"))\n",
        "b = float(input(\"Enter second number: \"))\n",
        "\n",
        "if op == '+':\n",
        "  print(\"Result:\", add(a, b))\n",
        "elif op == '-':\n",
        "  print(\"Result:\", subtract(a, b))\n",
        "elif op == '*':\n",
        "  print(\"Result:\", multiply(a, b))\n",
        "elif op == '/':\n",
        "  print(\"Result:\", divide(a, b))\n",
        "else:\n",
        "  print(\"Invalid operation\")"
      ]
    },
    {
      "cell_type": "markdown",
      "source": [
        "VERSION 2\n",
        "A simple calculator\n"
      ],
      "metadata": {
        "id": "MoS_Z_sihTwE"
      }
    },
    {
      "cell_type": "code",
      "source": [
        "def add( x, y ):\n",
        "  \"\"\"Adds two numbers and returns the result.\"\"\"\n",
        "  return x + y\n",
        "\n",
        "def subtract(x, y):\n",
        "  \"\"\"Subtracts the second number from the first and returns the result.\"\"\"\n",
        "  return x - y\n",
        "\n",
        "def multiply( x, y):\n",
        "  \"\"\"Multiplies two numbers and returns the result.\"\"\"\n",
        "  return x * y\n",
        "\n",
        "def divide( x, y):\n",
        "  \"\"\"Divides the first number by the second and returns the result.\n",
        "  Returns a ValueError message if the second number is zero.\n",
        "  \"\"\"\n",
        "  if y == 0:\n",
        "    return \"Value Error: Cannot divide by zero\"\n",
        "  return x / y\n",
        "\n",
        "def calculator():\n",
        "  \"\"\"Runs a simple command-line calculator.\"\"\"\n",
        "  print(\"Simple calculator\")\n",
        "  print(\"1. Addition\")\n",
        "  print(\"2. Subtraction\")\n",
        "  print(\"3. Multiplication\")\n",
        "  print(\"4. Division\")\n",
        "\n",
        "  while True:\n",
        "    choice = input(\"Enter choice(1/2/3/4): \")\n",
        "    if choice in ('1', '2', '3', '4'):\n",
        "      try:\n",
        "        num1 = float(input(\"Enter first number:\"))\n",
        "        num2 = float(input(\"Enter second number:\"))\n",
        "      except ValueError:\n",
        "        print(\"Invalid input. Please enter  numbers only.\")\n",
        "        continue\n",
        "\n",
        "      if choice == '1':\n",
        "        print(f\"{num1} +{num2} = {add(num1, num2)}\")\n",
        "      elif choice == '2':\n",
        "        print(f\"{num1} - {num2} = {subtract(num1, num2)}\")\n",
        "      elif choice == '3':\n",
        "        print(f\"{num1} * {num2} = {multiply(num1, num2)}\")\n",
        "      elif choice == '4':\n",
        "        print(f\"{num1} / {num2} = {divide(num1, num2)}\")\n",
        "      break\n",
        "    else:\n",
        "      print(\"Invalid choice! Please select from 1, 2, 3, 4\")\n",
        "\n",
        "\n",
        "if __name__ == \"__main__\":\n",
        "  calculator()"
      ],
      "metadata": {
        "colab": {
          "base_uri": "https://localhost:8080/"
        },
        "id": "Ps3Luo0nfS2_",
        "outputId": "ad5c8b81-319e-4a5a-b5c2-33a9798fa6a1"
      },
      "execution_count": 6,
      "outputs": [
        {
          "output_type": "stream",
          "name": "stdout",
          "text": [
            "Simple calculator\n",
            "1. Addition\n",
            "2. Subtraction\n",
            "3. Multiplication\n",
            "4. Division\n",
            "Enter choice(1/2/3/4): 2\n",
            "Enter first number:10\n",
            "Enter second number:6\n",
            "10.0 - 6.0 = 4.0\n"
          ]
        }
      ]
    }
  ]
}