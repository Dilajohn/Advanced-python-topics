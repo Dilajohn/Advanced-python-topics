{
  "nbformat": 4,
  "nbformat_minor": 0,
  "metadata": {
    "colab": {
      "provenance": [],
      "authorship_tag": "ABX9TyMibpW/qB7mdEKk28dJE9JG",
      "include_colab_link": true
    },
    "kernelspec": {
      "name": "python3",
      "display_name": "Python 3"
    },
    "language_info": {
      "name": "python"
    }
  },
  "cells": [
    {
      "cell_type": "markdown",
      "metadata": {
        "id": "view-in-github",
        "colab_type": "text"
      },
      "source": [
        "<a href=\"https://colab.research.google.com/github/Dilajohn/Advanced-python-topics/blob/main/simple_Python_digital_clock.ipynb\" target=\"_parent\"><img src=\"https://colab.research.google.com/assets/colab-badge.svg\" alt=\"Open In Colab\"/></a>"
      ]
    },
    {
      "cell_type": "code",
      "execution_count": 1,
      "metadata": {
        "colab": {
          "base_uri": "https://localhost:8080/",
          "height": 332
        },
        "id": "QbHcsVhI4dRJ",
        "outputId": "3634f9bb-40a5-4b75-d99d-a8657c8a5bdd"
      },
      "outputs": [
        {
          "output_type": "error",
          "ename": "TclError",
          "evalue": "no display name and no $DISPLAY environment variable",
          "traceback": [
            "\u001b[0;31m---------------------------------------------------------------------------\u001b[0m",
            "\u001b[0;31mTclError\u001b[0m                                  Traceback (most recent call last)",
            "\u001b[0;32m/tmp/ipython-input-2011022902.py\u001b[0m in \u001b[0;36m<cell line: 0>\u001b[0;34m()\u001b[0m\n\u001b[1;32m      9\u001b[0m \u001b[0;34m\u001b[0m\u001b[0m\n\u001b[1;32m     10\u001b[0m \u001b[0;31m# Create the main window\u001b[0m\u001b[0;34m\u001b[0m\u001b[0;34m\u001b[0m\u001b[0m\n\u001b[0;32m---> 11\u001b[0;31m \u001b[0mroot\u001b[0m \u001b[0;34m=\u001b[0m \u001b[0mtk\u001b[0m\u001b[0;34m.\u001b[0m\u001b[0mTk\u001b[0m\u001b[0;34m(\u001b[0m\u001b[0;34m)\u001b[0m\u001b[0;34m\u001b[0m\u001b[0;34m\u001b[0m\u001b[0m\n\u001b[0m\u001b[1;32m     12\u001b[0m \u001b[0mroot\u001b[0m\u001b[0;34m.\u001b[0m\u001b[0mtitle\u001b[0m\u001b[0;34m(\u001b[0m\u001b[0;34m\"Digital Clock\"\u001b[0m\u001b[0;34m)\u001b[0m\u001b[0;34m\u001b[0m\u001b[0;34m\u001b[0m\u001b[0m\n\u001b[1;32m     13\u001b[0m \u001b[0;34m\u001b[0m\u001b[0m\n",
            "\u001b[0;32m/usr/lib/python3.12/tkinter/__init__.py\u001b[0m in \u001b[0;36m__init__\u001b[0;34m(self, screenName, baseName, className, useTk, sync, use)\u001b[0m\n\u001b[1;32m   2347\u001b[0m                 \u001b[0mbaseName\u001b[0m \u001b[0;34m=\u001b[0m \u001b[0mbaseName\u001b[0m \u001b[0;34m+\u001b[0m \u001b[0mext\u001b[0m\u001b[0;34m\u001b[0m\u001b[0;34m\u001b[0m\u001b[0m\n\u001b[1;32m   2348\u001b[0m         \u001b[0minteractive\u001b[0m \u001b[0;34m=\u001b[0m \u001b[0;32mFalse\u001b[0m\u001b[0;34m\u001b[0m\u001b[0;34m\u001b[0m\u001b[0m\n\u001b[0;32m-> 2349\u001b[0;31m         \u001b[0mself\u001b[0m\u001b[0;34m.\u001b[0m\u001b[0mtk\u001b[0m \u001b[0;34m=\u001b[0m \u001b[0m_tkinter\u001b[0m\u001b[0;34m.\u001b[0m\u001b[0mcreate\u001b[0m\u001b[0;34m(\u001b[0m\u001b[0mscreenName\u001b[0m\u001b[0;34m,\u001b[0m \u001b[0mbaseName\u001b[0m\u001b[0;34m,\u001b[0m \u001b[0mclassName\u001b[0m\u001b[0;34m,\u001b[0m \u001b[0minteractive\u001b[0m\u001b[0;34m,\u001b[0m \u001b[0mwantobjects\u001b[0m\u001b[0;34m,\u001b[0m \u001b[0museTk\u001b[0m\u001b[0;34m,\u001b[0m \u001b[0msync\u001b[0m\u001b[0;34m,\u001b[0m \u001b[0muse\u001b[0m\u001b[0;34m)\u001b[0m\u001b[0;34m\u001b[0m\u001b[0;34m\u001b[0m\u001b[0m\n\u001b[0m\u001b[1;32m   2350\u001b[0m         \u001b[0;32mif\u001b[0m \u001b[0m_debug\u001b[0m\u001b[0;34m:\u001b[0m\u001b[0;34m\u001b[0m\u001b[0;34m\u001b[0m\u001b[0m\n\u001b[1;32m   2351\u001b[0m             \u001b[0mself\u001b[0m\u001b[0;34m.\u001b[0m\u001b[0mtk\u001b[0m\u001b[0;34m.\u001b[0m\u001b[0msettrace\u001b[0m\u001b[0;34m(\u001b[0m\u001b[0m_print_command\u001b[0m\u001b[0;34m)\u001b[0m\u001b[0;34m\u001b[0m\u001b[0;34m\u001b[0m\u001b[0m\n",
            "\u001b[0;31mTclError\u001b[0m: no display name and no $DISPLAY environment variable"
          ]
        }
      ],
      "source": [
        "import tkinter as tk\n",
        "import time\n",
        "\n",
        "# Function to update the clock label with the current time\n",
        "def update_time():\n",
        "    current_time = time.strftime('%H:%M:%S')  # Format time as hours:minutes:seconds\n",
        "    clock_label.config(text=current_time)  # Update the label text\n",
        "    root.after(1000, update_time)  # Schedule this function to run again after 1000 ms (1 second)\n",
        "\n",
        "# Create the main window\n",
        "root = tk.Tk()\n",
        "root.title(\"Digital Clock\")\n",
        "\n",
        "# Create a label widget to display the time\n",
        "clock_label = tk.Label(root, font=(\"Helvetica\", 48), bg=\"black\", fg=\"cyan\")\n",
        "clock_label.pack(padx=20, pady=20)\n",
        "\n",
        "# Start the time update cycle\n",
        "update_time()\n",
        "\n",
        "# Start the Tkinter event loop to keep the window open\n",
        "root.mainloop()\n"
      ]
    },
    {
      "cell_type": "markdown",
      "source": [
        "This Python code creates a simple digital clock that updates in the output of the cell.\n",
        "\n",
        "Here's how it works:\n",
        "\n",
        "Imports necessary libraries: It imports time for getting the current time and clear_output from IPython.display to clear the cell's output.\n",
        "Defines update_time() function:\n",
        "It enters an infinite loop (while True) to continuously update the time.\n",
        "Inside the loop, time.strftime('%H:%M:%S') formats the current time as HH:MM:SS.\n",
        "clear_output(wait=True) clears the previous time displayed in the output. wait=True ensures that the output is cleared before the new time is printed, preventing flickering.\n",
        "print(current_time) displays the formatted time.\n",
        "time.sleep(1) pauses the execution for one second before the next update.\n",
        "It includes a try...except KeyboardInterrupt block to gracefully stop the clock when the user interrupts the execution (e.g., by clicking the stop button in Colab).\n",
        "Calls update_time(): This starts the clock.\n",
        "In essence, the code repeatedly gets the current time, clears the previous output, prints the new time, and waits for a second, creating a continuously updating clock display in the cell's output."
      ],
      "metadata": {
        "id": "6gBWHXX35uaj"
      }
    },
    {
      "cell_type": "code",
      "metadata": {
        "colab": {
          "base_uri": "https://localhost:8080/"
        },
        "id": "723df459",
        "outputId": "ddf3f89f-0b9e-430e-cafb-ca3a9cdd662d"
      },
      "source": [
        "import time\n",
        "from IPython.display import clear_output\n",
        "\n",
        "def update_time():\n",
        "  \"\"\"Prints the current time to the console, updating every second.\"\"\"\n",
        "  try:\n",
        "    while True:\n",
        "      current_time = time.strftime('%H:%M:%S')\n",
        "      clear_output(wait=True) # Clear the previous output\n",
        "      print(current_time)\n",
        "      time.sleep(1) # Wait for 1 second\n",
        "  except KeyboardInterrupt:\n",
        "    print(\"Clock stopped.\")\n",
        "\n",
        "update_time()"
      ],
      "execution_count": 2,
      "outputs": [
        {
          "output_type": "stream",
          "name": "stdout",
          "text": [
            "10:48:09\n",
            "Clock stopped.\n"
          ]
        }
      ]
    }
  ]
}